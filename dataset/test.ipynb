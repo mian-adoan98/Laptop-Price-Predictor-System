{
 "cells": [
  {
   "cell_type": "code",
   "execution_count": 2,
   "metadata": {},
   "outputs": [],
   "source": [
    "import json \n",
    "import os \n",
    "import re "
   ]
  },
  {
   "cell_type": "markdown",
   "metadata": {},
   "source": [
    "Converting textfile to Json file"
   ]
  },
  {
   "cell_type": "code",
   "execution_count": null,
   "metadata": {},
   "outputs": [],
   "source": [
    "# with open(file='processors.txt', mode='r') as textfile:\n",
    "#     textlines = textfile.readlines()\n",
    "# # Initlialise constants: data (storing the processor data), current_cat, current_proc\n",
    "# data = {}\n",
    "# current_cat, current_proc = (None, None)\n",
    "\n",
    "# # S1: iterate line by line \n",
    "# for line in textlines:\n",
    "#     line = line.strip()\n",
    "# # S2: Detect category (laptop series) -  start with \"--\"\n",
    "#     if line.startswith(\"--\"):\n",
    "\n",
    "# S3: Detect processor name (Intel Code i5) start with (\"-\")\n",
    "# S4: Detect specific models (e.g. intel core i5 12th Generation (Inspiron 16 Plus)) - start with (\"i\")\n",
    "# S5: Save data as JSON file  \n",
    "\n"
   ]
  },
  {
   "cell_type": "code",
   "execution_count": null,
   "metadata": {},
   "outputs": [
    {
     "data": {
      "text/plain": [
       "'To classify these processors based on **a specific laptop brand** that appears most frequently with these processors, we would ideally need data on the corresponding laptop models. However, based on industry trends and the typical processors used in different brands, I will classify them based on the **most common laptop brand associated with each processor** in real-world usage.'"
      ]
     },
     "execution_count": 13,
     "metadata": {},
     "output_type": "execute_result"
    }
   ],
   "source": [
    "textlines[0].strip()\n"
   ]
  }
 ],
 "metadata": {
  "kernelspec": {
   "display_name": ".venv",
   "language": "python",
   "name": "python3"
  },
  "language_info": {
   "codemirror_mode": {
    "name": "ipython",
    "version": 3
   },
   "file_extension": ".py",
   "mimetype": "text/x-python",
   "name": "python",
   "nbconvert_exporter": "python",
   "pygments_lexer": "ipython3",
   "version": "3.12.4"
  }
 },
 "nbformat": 4,
 "nbformat_minor": 2
}
