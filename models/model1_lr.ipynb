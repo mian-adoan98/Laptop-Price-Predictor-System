{
 "cells": [
  {
   "cell_type": "markdown",
   "metadata": {},
   "source": [
    "# Model Development 1: Linear Regression"
   ]
  },
  {
   "cell_type": "code",
   "execution_count": 2,
   "metadata": {},
   "outputs": [],
   "source": [
    "# Import libraries for data manipulation and visualization\n",
    "import numpy as np \n",
    "import os\n",
    "import pandas as pd \n",
    "import matplotlib.pyplot as plt"
   ]
  },
  {
   "cell_type": "code",
   "execution_count": null,
   "metadata": {},
   "outputs": [],
   "source": [
    "# Set the numbers of columns to be displayed in the output\n",
    "pd.set_option('display.max_columns', None)"
   ]
  },
  {
   "cell_type": "markdown",
   "metadata": {},
   "source": [
    "### Approach: Linear Regression\n",
    "\n",
    "+ Data Preparation: splitting models into training and testing sets\n",
    "+ Feature Engineering\n",
    "+ Model Building: building simple and multivariate linear regression model from scratch \n",
    "+ Model Training: train the model with chosen number of datasamples\n",
    "+ Model Evaluation: evaluate the performance of model with fixed paramters\n",
    "+ Model Tuning with Hyperparamters: re-train and re-evaluate the model with hyperparamters"
   ]
  },
  {
   "cell_type": "code",
   "execution_count": 3,
   "metadata": {},
   "outputs": [
    {
     "name": "stderr",
     "output_type": "stream",
     "text": [
      "<>:2: SyntaxWarning: invalid escape sequence '\\P'\n",
      "<>:2: SyntaxWarning: invalid escape sequence '\\P'\n",
      "C:\\Users\\mian_\\AppData\\Local\\Temp\\ipykernel_8360\\3772760037.py:2: SyntaxWarning: invalid escape sequence '\\P'\n",
      "  path = \"D:\\Projectwork Platform\\MEP-Machine-Learning\\Laptop_Price_Prediction\\dataset\"\n"
     ]
    },
    {
     "data": {
      "text/html": [
       "<div>\n",
       "<style scoped>\n",
       "    .dataframe tbody tr th:only-of-type {\n",
       "        vertical-align: middle;\n",
       "    }\n",
       "\n",
       "    .dataframe tbody tr th {\n",
       "        vertical-align: top;\n",
       "    }\n",
       "\n",
       "    .dataframe thead th {\n",
       "        text-align: right;\n",
       "    }\n",
       "</style>\n",
       "<table border=\"1\" class=\"dataframe\">\n",
       "  <thead>\n",
       "    <tr style=\"text-align: right;\">\n",
       "      <th></th>\n",
       "      <th>Brand</th>\n",
       "      <th>Price</th>\n",
       "      <th>Color</th>\n",
       "      <th>GPU</th>\n",
       "      <th>Processor Speed</th>\n",
       "      <th>Display Width</th>\n",
       "      <th>Display Height</th>\n",
       "      <th>OS</th>\n",
       "      <th>Storage Type</th>\n",
       "      <th>Hard Drive Capacity</th>\n",
       "      <th>SSD Capacity</th>\n",
       "      <th>Screen Size (cm)</th>\n",
       "      <th>Ram Size</th>\n",
       "      <th>Price per Screen Size</th>\n",
       "      <th>Price per Display Height</th>\n",
       "      <th>Price per Display Width</th>\n",
       "      <th>Bluetooth</th>\n",
       "      <th>Touchscreen</th>\n",
       "      <th>WiFi</th>\n",
       "      <th>Webcam</th>\n",
       "    </tr>\n",
       "  </thead>\n",
       "  <tbody>\n",
       "    <tr>\n",
       "      <th>0</th>\n",
       "      <td>dell</td>\n",
       "      <td>400.00</td>\n",
       "      <td>black</td>\n",
       "      <td>intel</td>\n",
       "      <td>4.2</td>\n",
       "      <td>1920.0</td>\n",
       "      <td>1080.0</td>\n",
       "      <td>windows</td>\n",
       "      <td>ssd</td>\n",
       "      <td>2000.00</td>\n",
       "      <td>205.95</td>\n",
       "      <td>14.0</td>\n",
       "      <td>5.98</td>\n",
       "      <td>28.571429</td>\n",
       "      <td>0.370370</td>\n",
       "      <td>0.208333</td>\n",
       "      <td>Yes</td>\n",
       "      <td>No</td>\n",
       "      <td>Yes</td>\n",
       "      <td>Yes</td>\n",
       "    </tr>\n",
       "    <tr>\n",
       "      <th>1</th>\n",
       "      <td>dell</td>\n",
       "      <td>175.00</td>\n",
       "      <td>black</td>\n",
       "      <td>intel</td>\n",
       "      <td>2.4</td>\n",
       "      <td>1920.0</td>\n",
       "      <td>1080.0</td>\n",
       "      <td>windows</td>\n",
       "      <td>ssd</td>\n",
       "      <td>500.00</td>\n",
       "      <td>500.00</td>\n",
       "      <td>14.0</td>\n",
       "      <td>16.00</td>\n",
       "      <td>12.500000</td>\n",
       "      <td>0.162037</td>\n",
       "      <td>0.091146</td>\n",
       "      <td>Yes</td>\n",
       "      <td>Yes</td>\n",
       "      <td>Yes</td>\n",
       "      <td>Yes</td>\n",
       "    </tr>\n",
       "    <tr>\n",
       "      <th>2</th>\n",
       "      <td>hp</td>\n",
       "      <td>85.00</td>\n",
       "      <td>black</td>\n",
       "      <td>intel</td>\n",
       "      <td>2.4</td>\n",
       "      <td>1366.0</td>\n",
       "      <td>768.0</td>\n",
       "      <td>chrome</td>\n",
       "      <td>emmc</td>\n",
       "      <td>16.00</td>\n",
       "      <td>205.95</td>\n",
       "      <td>11.6</td>\n",
       "      <td>4.00</td>\n",
       "      <td>7.327586</td>\n",
       "      <td>0.110677</td>\n",
       "      <td>0.062225</td>\n",
       "      <td>Yes</td>\n",
       "      <td>No</td>\n",
       "      <td>Yes</td>\n",
       "      <td>Yes</td>\n",
       "    </tr>\n",
       "    <tr>\n",
       "      <th>3</th>\n",
       "      <td>dell</td>\n",
       "      <td>101.25</td>\n",
       "      <td>other</td>\n",
       "      <td>other</td>\n",
       "      <td>1.4</td>\n",
       "      <td>1366.0</td>\n",
       "      <td>768.0</td>\n",
       "      <td>windows</td>\n",
       "      <td>ssd</td>\n",
       "      <td>98.89</td>\n",
       "      <td>256.00</td>\n",
       "      <td>12.5</td>\n",
       "      <td>8.00</td>\n",
       "      <td>8.100000</td>\n",
       "      <td>0.131836</td>\n",
       "      <td>0.074122</td>\n",
       "      <td>No</td>\n",
       "      <td>No</td>\n",
       "      <td>Yes</td>\n",
       "      <td>Yes</td>\n",
       "    </tr>\n",
       "    <tr>\n",
       "      <th>4</th>\n",
       "      <td>acer</td>\n",
       "      <td>50.00</td>\n",
       "      <td>black</td>\n",
       "      <td>other</td>\n",
       "      <td>1.6</td>\n",
       "      <td>1366.0</td>\n",
       "      <td>768.0</td>\n",
       "      <td>chrome</td>\n",
       "      <td>ssd</td>\n",
       "      <td>98.89</td>\n",
       "      <td>16.00</td>\n",
       "      <td>11.6</td>\n",
       "      <td>4.00</td>\n",
       "      <td>4.310345</td>\n",
       "      <td>0.065104</td>\n",
       "      <td>0.036603</td>\n",
       "      <td>Yes</td>\n",
       "      <td>Yes</td>\n",
       "      <td>No</td>\n",
       "      <td>No</td>\n",
       "    </tr>\n",
       "  </tbody>\n",
       "</table>\n",
       "</div>"
      ],
      "text/plain": [
       "  Brand   Price  Color    GPU  Processor Speed  Display Width  Display Height  \\\n",
       "0  dell  400.00  black  intel              4.2         1920.0          1080.0   \n",
       "1  dell  175.00  black  intel              2.4         1920.0          1080.0   \n",
       "2    hp   85.00  black  intel              2.4         1366.0           768.0   \n",
       "3  dell  101.25  other  other              1.4         1366.0           768.0   \n",
       "4  acer   50.00  black  other              1.6         1366.0           768.0   \n",
       "\n",
       "        OS Storage Type  Hard Drive Capacity  SSD Capacity  Screen Size (cm)  \\\n",
       "0  windows          ssd              2000.00        205.95              14.0   \n",
       "1  windows          ssd               500.00        500.00              14.0   \n",
       "2   chrome         emmc                16.00        205.95              11.6   \n",
       "3  windows          ssd                98.89        256.00              12.5   \n",
       "4   chrome          ssd                98.89         16.00              11.6   \n",
       "\n",
       "   Ram Size  Price per Screen Size  Price per Display Height  \\\n",
       "0      5.98              28.571429                  0.370370   \n",
       "1     16.00              12.500000                  0.162037   \n",
       "2      4.00               7.327586                  0.110677   \n",
       "3      8.00               8.100000                  0.131836   \n",
       "4      4.00               4.310345                  0.065104   \n",
       "\n",
       "   Price per Display Width Bluetooth Touchscreen WiFi Webcam  \n",
       "0                 0.208333       Yes          No  Yes    Yes  \n",
       "1                 0.091146       Yes         Yes  Yes    Yes  \n",
       "2                 0.062225       Yes          No  Yes    Yes  \n",
       "3                 0.074122        No          No  Yes    Yes  \n",
       "4                 0.036603       Yes         Yes   No     No  "
      ]
     },
     "execution_count": 3,
     "metadata": {},
     "output_type": "execute_result"
    }
   ],
   "source": [
    "# Load the dataset from phase 3\n",
    "path = \"D:\\Projectwork Platform\\MEP-Machine-Learning\\Laptop_Price_Prediction\\dataset\"\n",
    "csv_file = os.path.join(path, \"ebay_laptop_data_phase3.csv\")\n",
    "laptop_df = pd.read_csv(csv_file)\n",
    "laptop_df.head()"
   ]
  },
  {
   "cell_type": "markdown",
   "metadata": {},
   "source": [
    "## Data Preparation"
   ]
  },
  {
   "cell_type": "markdown",
   "metadata": {},
   "source": [
    "+ Data splitting: splitting into training and testing sets\n",
    "+ Feature Scaling: scaling features using StandardScaling\n",
    "+ Feature Encoding: encoding categorical features using label encoding\n"
   ]
  },
  {
   "cell_type": "code",
   "execution_count": 4,
   "metadata": {},
   "outputs": [],
   "source": [
    "# import dependencies for preparing data \n",
    "from sklearn.model_selection import train_test_split\n",
    "from sklearn.preprocessing import StandardScaler, LabelEncoder\n",
    "from sklearn.compose import ColumnTransformer"
   ]
  },
  {
   "cell_type": "code",
   "execution_count": 5,
   "metadata": {},
   "outputs": [
    {
     "name": "stdout",
     "output_type": "stream",
     "text": [
      "Training set: x=(1976, 18), y=(1976,)\n",
      "Test set: x=(495, 18), y=(495,)\n"
     ]
    }
   ],
   "source": [
    "# Filter out irrelevant data\n",
    "laptop_df = laptop_df.drop(columns=[\"Brand\"], axis=1)\n",
    "\n",
    "# Split the dataset into testing and training sets\n",
    "laptopX = laptop_df.drop(columns=[\"Price\"], axis=1)\n",
    "laptopY = laptop_df[\"Price\"]\n",
    "\n",
    "xtrain, xtest, ytrain, ytest = train_test_split(laptopX, laptopY, test_size=0.2, random_state=42)\n",
    "print(f\"Training set: x={xtrain.shape}, y={ytrain.shape}\")\n",
    "print(f\"Test set: x={xtest.shape}, y={ytest.shape}\")"
   ]
  },
  {
   "cell_type": "code",
   "execution_count": 6,
   "metadata": {},
   "outputs": [
    {
     "data": {
      "image/png": "[encoded data removed]",
      "text/plain": [
       "<Figure size 640x480 with 1 Axes>"
      ]
     },
     "metadata": {},
     "output_type": "display_data"
    }
   ],
   "source": [
    "# Visualize the data distribution: target variable and features\n",
    "def correlation_graph(x,y = \"Price\", dataX = xtrain, dataY = ytrain, color=\"blue\"):\n",
    "    feature = dataX[x]\n",
    "    target = dataY\n",
    "\n",
    "    plt.scatter(feature, target, color=color)\n",
    "    plt.xlabel(x)\n",
    "    plt.ylabel(y)\n",
    "    plt.title(f\"Correlation Graph: {x} vs {y}\")\n",
    "    plt.show()\n",
    "\n",
    "correlation_graph(\"Ram Size\")"
   ]
  },
  {
   "cell_type": "markdown",
   "metadata": {},
   "source": [
    "## Model Building"
   ]
  },
  {
   "cell_type": "code",
   "execution_count": 7,
   "metadata": {},
   "outputs": [],
   "source": [
    "# Import Linear regression model \n",
    "from linear_regression import SimpleLinearRegression"
   ]
  },
  {
   "cell_type": "code",
   "execution_count": null,
   "metadata": {},
   "outputs": [],
   "source": [
    "# "
   ]
  },
  {
   "cell_type": "markdown",
   "metadata": {},
   "source": [
    "Techniques for model evaluation\n",
    "+ Evaluation Metrics\n",
    "+ Hyperparameter Tuning"
   ]
  },
  {
   "cell_type": "code",
   "execution_count": 8,
   "metadata": {},
   "outputs": [],
   "source": [
    "# Import dependencies for implementing evaluation metrics \n",
    "from sklearn.metrics import mean_squared_error\n",
    "from sklearn.metrics import mean_absolute_error\n",
    "from sklearn.metrics import r2_score"
   ]
  },
  {
   "cell_type": "markdown",
   "metadata": {},
   "source": [
    "Evaluating models based on: \n",
    "+ 1 chosen input feature vs price price  \n",
    "+ 2 input features vs laptop price\n",
    "+ more than 2 input features vs laptop price "
   ]
  },
  {
   "cell_type": "code",
   "execution_count": 15,
   "metadata": {},
   "outputs": [
    {
     "data": {
      "text/html": [
       "<div>\n",
       "<style scoped>\n",
       "    .dataframe tbody tr th:only-of-type {\n",
       "        vertical-align: middle;\n",
       "    }\n",
       "\n",
       "    .dataframe tbody tr th {\n",
       "        vertical-align: top;\n",
       "    }\n",
       "\n",
       "    .dataframe thead th {\n",
       "        text-align: right;\n",
       "    }\n",
       "</style>\n",
       "<table border=\"1\" class=\"dataframe\">\n",
       "  <thead>\n",
       "    <tr style=\"text-align: right;\">\n",
       "      <th></th>\n",
       "      <th>Price</th>\n",
       "      <th>Color</th>\n",
       "      <th>GPU</th>\n",
       "      <th>Processor Speed</th>\n",
       "      <th>Display Width</th>\n",
       "      <th>Display Height</th>\n",
       "      <th>OS</th>\n",
       "      <th>Storage Type</th>\n",
       "      <th>Hard Drive Capacity</th>\n",
       "      <th>SSD Capacity</th>\n",
       "      <th>Screen Size (cm)</th>\n",
       "      <th>Ram Size</th>\n",
       "      <th>Price per Screen Size</th>\n",
       "      <th>Price per Display Height</th>\n",
       "      <th>Price per Display Width</th>\n",
       "      <th>Bluetooth</th>\n",
       "      <th>Touchscreen</th>\n",
       "      <th>WiFi</th>\n",
       "      <th>Webcam</th>\n",
       "    </tr>\n",
       "  </thead>\n",
       "  <tbody>\n",
       "    <tr>\n",
       "      <th>0</th>\n",
       "      <td>400.00</td>\n",
       "      <td>black</td>\n",
       "      <td>intel</td>\n",
       "      <td>4.2</td>\n",
       "      <td>1920.0</td>\n",
       "      <td>1080.0</td>\n",
       "      <td>windows</td>\n",
       "      <td>ssd</td>\n",
       "      <td>2000.00</td>\n",
       "      <td>205.95</td>\n",
       "      <td>14.0</td>\n",
       "      <td>5.98</td>\n",
       "      <td>28.571429</td>\n",
       "      <td>0.370370</td>\n",
       "      <td>0.208333</td>\n",
       "      <td>Yes</td>\n",
       "      <td>No</td>\n",
       "      <td>Yes</td>\n",
       "      <td>Yes</td>\n",
       "    </tr>\n",
       "    <tr>\n",
       "      <th>1</th>\n",
       "      <td>175.00</td>\n",
       "      <td>black</td>\n",
       "      <td>intel</td>\n",
       "      <td>2.4</td>\n",
       "      <td>1920.0</td>\n",
       "      <td>1080.0</td>\n",
       "      <td>windows</td>\n",
       "      <td>ssd</td>\n",
       "      <td>500.00</td>\n",
       "      <td>500.00</td>\n",
       "      <td>14.0</td>\n",
       "      <td>16.00</td>\n",
       "      <td>12.500000</td>\n",
       "      <td>0.162037</td>\n",
       "      <td>0.091146</td>\n",
       "      <td>Yes</td>\n",
       "      <td>Yes</td>\n",
       "      <td>Yes</td>\n",
       "      <td>Yes</td>\n",
       "    </tr>\n",
       "    <tr>\n",
       "      <th>2</th>\n",
       "      <td>85.00</td>\n",
       "      <td>black</td>\n",
       "      <td>intel</td>\n",
       "      <td>2.4</td>\n",
       "      <td>1366.0</td>\n",
       "      <td>768.0</td>\n",
       "      <td>chrome</td>\n",
       "      <td>emmc</td>\n",
       "      <td>16.00</td>\n",
       "      <td>205.95</td>\n",
       "      <td>11.6</td>\n",
       "      <td>4.00</td>\n",
       "      <td>7.327586</td>\n",
       "      <td>0.110677</td>\n",
       "      <td>0.062225</td>\n",
       "      <td>Yes</td>\n",
       "      <td>No</td>\n",
       "      <td>Yes</td>\n",
       "      <td>Yes</td>\n",
       "    </tr>\n",
       "    <tr>\n",
       "      <th>3</th>\n",
       "      <td>101.25</td>\n",
       "      <td>other</td>\n",
       "      <td>other</td>\n",
       "      <td>1.4</td>\n",
       "      <td>1366.0</td>\n",
       "      <td>768.0</td>\n",
       "      <td>windows</td>\n",
       "      <td>ssd</td>\n",
       "      <td>98.89</td>\n",
       "      <td>256.00</td>\n",
       "      <td>12.5</td>\n",
       "      <td>8.00</td>\n",
       "      <td>8.100000</td>\n",
       "      <td>0.131836</td>\n",
       "      <td>0.074122</td>\n",
       "      <td>No</td>\n",
       "      <td>No</td>\n",
       "      <td>Yes</td>\n",
       "      <td>Yes</td>\n",
       "    </tr>\n",
       "    <tr>\n",
       "      <th>4</th>\n",
       "      <td>50.00</td>\n",
       "      <td>black</td>\n",
       "      <td>other</td>\n",
       "      <td>1.6</td>\n",
       "      <td>1366.0</td>\n",
       "      <td>768.0</td>\n",
       "      <td>chrome</td>\n",
       "      <td>ssd</td>\n",
       "      <td>98.89</td>\n",
       "      <td>16.00</td>\n",
       "      <td>11.6</td>\n",
       "      <td>4.00</td>\n",
       "      <td>4.310345</td>\n",
       "      <td>0.065104</td>\n",
       "      <td>0.036603</td>\n",
       "      <td>Yes</td>\n",
       "      <td>Yes</td>\n",
       "      <td>No</td>\n",
       "      <td>No</td>\n",
       "    </tr>\n",
       "  </tbody>\n",
       "</table>\n",
       "</div>"
      ],
      "text/plain": [
       "    Price  Color    GPU  Processor Speed  Display Width  Display Height  \\\n",
       "0  400.00  black  intel              4.2         1920.0          1080.0   \n",
       "1  175.00  black  intel              2.4         1920.0          1080.0   \n",
       "2   85.00  black  intel              2.4         1366.0           768.0   \n",
       "3  101.25  other  other              1.4         1366.0           768.0   \n",
       "4   50.00  black  other              1.6         1366.0           768.0   \n",
       "\n",
       "        OS Storage Type  Hard Drive Capacity  SSD Capacity  Screen Size (cm)  \\\n",
       "0  windows          ssd              2000.00        205.95              14.0   \n",
       "1  windows          ssd               500.00        500.00              14.0   \n",
       "2   chrome         emmc                16.00        205.95              11.6   \n",
       "3  windows          ssd                98.89        256.00              12.5   \n",
       "4   chrome          ssd                98.89         16.00              11.6   \n",
       "\n",
       "   Ram Size  Price per Screen Size  Price per Display Height  \\\n",
       "0      5.98              28.571429                  0.370370   \n",
       "1     16.00              12.500000                  0.162037   \n",
       "2      4.00               7.327586                  0.110677   \n",
       "3      8.00               8.100000                  0.131836   \n",
       "4      4.00               4.310345                  0.065104   \n",
       "\n",
       "   Price per Display Width Bluetooth Touchscreen WiFi Webcam  \n",
       "0                 0.208333       Yes          No  Yes    Yes  \n",
       "1                 0.091146       Yes         Yes  Yes    Yes  \n",
       "2                 0.062225       Yes          No  Yes    Yes  \n",
       "3                 0.074122        No          No  Yes    Yes  \n",
       "4                 0.036603       Yes         Yes   No     No  "
      ]
     },
     "execution_count": 15,
     "metadata": {},
     "output_type": "execute_result"
    }
   ],
   "source": [
    "# Evaluate: 1 chose feature vs price (Horsepower)\n",
    "laptop_df.head()"
   ]
  },
  {
   "cell_type": "markdown",
   "metadata": {},
   "source": [
    "## Model Packaging"
   ]
  },
  {
   "cell_type": "code",
   "execution_count": 16,
   "metadata": {},
   "outputs": [],
   "source": [
    "import joblib"
   ]
  },
  {
   "cell_type": "code",
   "execution_count": 17,
   "metadata": {},
   "outputs": [
    {
     "data": {
      "text/plain": [
       "['linear_model1.pkl']"
      ]
     },
     "execution_count": 17,
     "metadata": {},
     "output_type": "execute_result"
    }
   ],
   "source": [
    "# Save the linear regression model \n",
    "joblib.dump(lin_model, \"linear_model1.pkl\")"
   ]
  },
  {
   "cell_type": "code",
   "execution_count": null,
   "metadata": {},
   "outputs": [],
   "source": []
  },
  {
   "cell_type": "code",
   "execution_count": null,
   "metadata": {},
   "outputs": [],
   "source": []
  },
  {
   "cell_type": "code",
   "execution_count": null,
   "metadata": {},
   "outputs": [],
   "source": []
  }
 ],
 "metadata": {
  "kernelspec": {
   "display_name": "Python 3",
   "language": "python",
   "name": "python3"
  },
  "language_info": {
   "codemirror_mode": {
    "name": "ipython",
    "version": 3
   },
   "file_extension": ".py",
   "mimetype": "text/x-python",
   "name": "python",
   "nbconvert_exporter": "python",
   "pygments_lexer": "ipython3",
   "version": "3.11.9"
  }
 },
 "nbformat": 4,
 "nbformat_minor": 2
}
