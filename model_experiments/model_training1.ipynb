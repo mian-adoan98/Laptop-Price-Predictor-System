{
 "cells": [
  {
   "cell_type": "markdown",
   "id": "18af9588",
   "metadata": {},
   "source": [
    "# Model Training 1: Single Linear Regression"
   ]
  },
  {
   "cell_type": "code",
   "execution_count": 1,
   "id": "44a446f7",
   "metadata": {},
   "outputs": [],
   "source": [
    "# Import libraries for system configuration\n",
    "import sys \n",
    "import os \n",
    "\n",
    "sys.path.append(os.path.abspath(\".\\engineering\"))\n",
    "\n",
    "# Import library for developing linear regression model (simple)\n",
    "import numpy as np \n",
    "import pandas as pd \n",
    "import matplotlib.pyplot as plt \n",
    "import seaborn as sns "
   ]
  },
  {
   "cell_type": "code",
   "execution_count": 2,
   "id": "7e743c04",
   "metadata": {},
   "outputs": [],
   "source": [
    "# Import depdencies for notebook configuration\n",
    "pd.set_option(\"display.max_columns\", 35)"
   ]
  },
  {
   "cell_type": "markdown",
   "id": "a4ee8135",
   "metadata": {},
   "source": [
    "## Model Training 1: Approach\n",
    "\n",
    "This stage we will train a single linear regression model for each selected feature in relation with its target variable. The features with the strong correlation with its dependent variable will be considered for training. The target variable is the price data as this project entails of making price predictions based on laptop properties: \n",
    "\n",
    "Those properties will be considered for training: \n",
    "+ Price per Screen Size\n",
    "+ Price per Display Width\n",
    "+ Price per Display height\n",
    "+ SSD Capacity\n"
   ]
  },
  {
   "cell_type": "markdown",
   "id": "6ba5afa3",
   "metadata": {},
   "source": [
    "This process entails several consequtive steps to perform a better model training. These mentioned steps are considered as: \n",
    "\n",
    "1. Data Validation: splitting the data into small datasets in train and test sets\n",
    "2. Model Training b.o. inferences: 4 features as inferences for training the SimpleLinearRegression-model\n",
    "3. Model Visualisation: visualisation the distribution + the model --> detecting for possible bias or variance"
   ]
  },
  {
   "cell_type": "markdown",
   "id": "5ea5ef58",
   "metadata": {},
   "source": [
    "## Model Training: Single Linear Model Case Scenario"
   ]
  },
  {
   "cell_type": "code",
   "execution_count": 3,
   "id": "fd6f0788",
   "metadata": {},
   "outputs": [],
   "source": [
    "# Import libraries for training linear model \n",
    "from sklearn.model_selection import train_test_split\n",
    "\n",
    "# Import dependencies \n",
    "# from engineering.data_preparation import DataPreparator"
   ]
  },
  {
   "cell_type": "markdown",
   "id": "d120c6c4",
   "metadata": {},
   "source": [
    "## Data Loading"
   ]
  },
  {
   "cell_type": "code",
   "execution_count": 4,
   "id": "3845af20",
   "metadata": {},
   "outputs": [
    {
     "name": "stdout",
     "output_type": "stream",
     "text": [
      "csv-file 0: fe_cat_features.csv\n",
      "csv-file 1: laptop_price_ds_for_model_training.csv\n",
      "Total csv-files: 2\n"
     ]
    }
   ],
   "source": [
    "# # Create a file dictionary including all datasets (with csv-extension)\n",
    "path = \"C:\\Development\\Projects\\MachineLearning\\Laptop-Price-Predictor-System\\engineering\"\n",
    "file_list = os.listdir(path)\n",
    "file_dict = {i:file for i, file in enumerate(file_list)}\n",
    "\n",
    "# Extract csv-files from file directory \n",
    "csv_files = []\n",
    "\n",
    "for file_idx, file_item in file_dict.items():\n",
    "    # Check if file has csv extension\n",
    "    if file_item.endswith(\".csv\"):\n",
    "        csv_file = file_item\n",
    "        csv_files.append(csv_file)\n",
    "    \n",
    "    # print(file_idx, file_item)\n",
    "\n",
    "num_csv_file = 0\n",
    "for idx, csv_file in enumerate(csv_files):\n",
    "    print(f\"csv-file {idx}: {csv_file}\")\n",
    "    num_csv_file += 1\n",
    "\n",
    "print(f\"Total csv-files: {num_csv_file}\")"
   ]
  },
  {
   "cell_type": "code",
   "execution_count": 5,
   "id": "01ad7b84",
   "metadata": {},
   "outputs": [
    {
     "data": {
      "text/html": [
       "<div>\n",
       "<style scoped>\n",
       "    .dataframe tbody tr th:only-of-type {\n",
       "        vertical-align: middle;\n",
       "    }\n",
       "\n",
       "    .dataframe tbody tr th {\n",
       "        vertical-align: top;\n",
       "    }\n",
       "\n",
       "    .dataframe thead th {\n",
       "        text-align: right;\n",
       "    }\n",
       "</style>\n",
       "<table border=\"1\" class=\"dataframe\">\n",
       "  <thead>\n",
       "    <tr style=\"text-align: right;\">\n",
       "      <th></th>\n",
       "      <th>Brand</th>\n",
       "      <th>Color</th>\n",
       "      <th>Bluetooth</th>\n",
       "      <th>Touchscreen</th>\n",
       "      <th>WiFi</th>\n",
       "      <th>Webcam</th>\n",
       "      <th>GPU_amd</th>\n",
       "      <th>GPU_intel</th>\n",
       "      <th>GPU_mali</th>\n",
       "      <th>GPU_nvidia</th>\n",
       "      <th>OS_Windows</th>\n",
       "      <th>OS_android</th>\n",
       "      <th>OS_chrome</th>\n",
       "      <th>OS_linux</th>\n",
       "      <th>OS_windows</th>\n",
       "      <th>Storage Type_emmc</th>\n",
       "      <th>Storage Type_hdd/ssd</th>\n",
       "      <th>Storage Type_other</th>\n",
       "      <th>Storage Type_ssd</th>\n",
       "      <th>Processor Speed</th>\n",
       "      <th>Display Width</th>\n",
       "      <th>Display Height</th>\n",
       "      <th>Hard Drive Capacity</th>\n",
       "      <th>SSD Capacity</th>\n",
       "      <th>Screen Size (cm)</th>\n",
       "      <th>Ram Size</th>\n",
       "      <th>Price per Screen Size</th>\n",
       "      <th>Price per Display Height</th>\n",
       "      <th>Price per Display Width</th>\n",
       "      <th>Price</th>\n",
       "    </tr>\n",
       "  </thead>\n",
       "  <tbody>\n",
       "    <tr>\n",
       "      <th>0</th>\n",
       "      <td>dell</td>\n",
       "      <td>1</td>\n",
       "      <td>1</td>\n",
       "      <td>0</td>\n",
       "      <td>1</td>\n",
       "      <td>1</td>\n",
       "      <td>0.0</td>\n",
       "      <td>1.0</td>\n",
       "      <td>0.0</td>\n",
       "      <td>0.0</td>\n",
       "      <td>0.0</td>\n",
       "      <td>0.0</td>\n",
       "      <td>0.0</td>\n",
       "      <td>0.0</td>\n",
       "      <td>1.0</td>\n",
       "      <td>0.0</td>\n",
       "      <td>0.0</td>\n",
       "      <td>0.0</td>\n",
       "      <td>1.0</td>\n",
       "      <td>0.761905</td>\n",
       "      <td>0.372704</td>\n",
       "      <td>0.323788</td>\n",
       "      <td>0.499875</td>\n",
       "      <td>0.050538</td>\n",
       "      <td>0.008374</td>\n",
       "      <td>0.011680</td>\n",
       "      <td>0.082472</td>\n",
       "      <td>0.083832</td>\n",
       "      <td>0.082026</td>\n",
       "      <td>400.00</td>\n",
       "    </tr>\n",
       "    <tr>\n",
       "      <th>1</th>\n",
       "      <td>dell</td>\n",
       "      <td>1</td>\n",
       "      <td>1</td>\n",
       "      <td>1</td>\n",
       "      <td>1</td>\n",
       "      <td>1</td>\n",
       "      <td>0.0</td>\n",
       "      <td>1.0</td>\n",
       "      <td>0.0</td>\n",
       "      <td>0.0</td>\n",
       "      <td>0.0</td>\n",
       "      <td>0.0</td>\n",
       "      <td>0.0</td>\n",
       "      <td>0.0</td>\n",
       "      <td>1.0</td>\n",
       "      <td>0.0</td>\n",
       "      <td>0.0</td>\n",
       "      <td>0.0</td>\n",
       "      <td>1.0</td>\n",
       "      <td>0.333333</td>\n",
       "      <td>0.372704</td>\n",
       "      <td>0.323788</td>\n",
       "      <td>0.124781</td>\n",
       "      <td>0.124124</td>\n",
       "      <td>0.008374</td>\n",
       "      <td>0.031250</td>\n",
       "      <td>0.035871</td>\n",
       "      <td>0.034781</td>\n",
       "      <td>0.034033</td>\n",
       "      <td>175.00</td>\n",
       "    </tr>\n",
       "    <tr>\n",
       "      <th>2</th>\n",
       "      <td>hp</td>\n",
       "      <td>1</td>\n",
       "      <td>1</td>\n",
       "      <td>0</td>\n",
       "      <td>1</td>\n",
       "      <td>1</td>\n",
       "      <td>0.0</td>\n",
       "      <td>1.0</td>\n",
       "      <td>0.0</td>\n",
       "      <td>0.0</td>\n",
       "      <td>0.0</td>\n",
       "      <td>0.0</td>\n",
       "      <td>1.0</td>\n",
       "      <td>0.0</td>\n",
       "      <td>0.0</td>\n",
       "      <td>1.0</td>\n",
       "      <td>0.0</td>\n",
       "      <td>0.0</td>\n",
       "      <td>0.0</td>\n",
       "      <td>0.333333</td>\n",
       "      <td>0.191703</td>\n",
       "      <td>0.163956</td>\n",
       "      <td>0.003751</td>\n",
       "      <td>0.050538</td>\n",
       "      <td>0.006699</td>\n",
       "      <td>0.007812</td>\n",
       "      <td>0.020872</td>\n",
       "      <td>0.022689</td>\n",
       "      <td>0.022189</td>\n",
       "      <td>85.00</td>\n",
       "    </tr>\n",
       "    <tr>\n",
       "      <th>3</th>\n",
       "      <td>dell</td>\n",
       "      <td>2</td>\n",
       "      <td>0</td>\n",
       "      <td>0</td>\n",
       "      <td>1</td>\n",
       "      <td>1</td>\n",
       "      <td>0.0</td>\n",
       "      <td>1.0</td>\n",
       "      <td>0.0</td>\n",
       "      <td>0.0</td>\n",
       "      <td>0.0</td>\n",
       "      <td>0.0</td>\n",
       "      <td>0.0</td>\n",
       "      <td>0.0</td>\n",
       "      <td>1.0</td>\n",
       "      <td>0.0</td>\n",
       "      <td>0.0</td>\n",
       "      <td>0.0</td>\n",
       "      <td>1.0</td>\n",
       "      <td>0.095238</td>\n",
       "      <td>0.191703</td>\n",
       "      <td>0.163956</td>\n",
       "      <td>0.024479</td>\n",
       "      <td>0.063063</td>\n",
       "      <td>0.007327</td>\n",
       "      <td>0.015625</td>\n",
       "      <td>0.023112</td>\n",
       "      <td>0.027671</td>\n",
       "      <td>0.027061</td>\n",
       "      <td>101.25</td>\n",
       "    </tr>\n",
       "    <tr>\n",
       "      <th>4</th>\n",
       "      <td>acer</td>\n",
       "      <td>1</td>\n",
       "      <td>1</td>\n",
       "      <td>1</td>\n",
       "      <td>0</td>\n",
       "      <td>0</td>\n",
       "      <td>0.0</td>\n",
       "      <td>1.0</td>\n",
       "      <td>0.0</td>\n",
       "      <td>0.0</td>\n",
       "      <td>0.0</td>\n",
       "      <td>0.0</td>\n",
       "      <td>1.0</td>\n",
       "      <td>0.0</td>\n",
       "      <td>0.0</td>\n",
       "      <td>0.0</td>\n",
       "      <td>0.0</td>\n",
       "      <td>0.0</td>\n",
       "      <td>1.0</td>\n",
       "      <td>0.142857</td>\n",
       "      <td>0.191703</td>\n",
       "      <td>0.163956</td>\n",
       "      <td>0.024479</td>\n",
       "      <td>0.003003</td>\n",
       "      <td>0.006699</td>\n",
       "      <td>0.007812</td>\n",
       "      <td>0.012124</td>\n",
       "      <td>0.011959</td>\n",
       "      <td>0.011696</td>\n",
       "      <td>50.00</td>\n",
       "    </tr>\n",
       "  </tbody>\n",
       "</table>\n",
       "</div>"
      ],
      "text/plain": [
       "  Brand  Color  Bluetooth  Touchscreen  WiFi  Webcam  GPU_amd  GPU_intel  \\\n",
       "0  dell      1          1            0     1       1      0.0        1.0   \n",
       "1  dell      1          1            1     1       1      0.0        1.0   \n",
       "2    hp      1          1            0     1       1      0.0        1.0   \n",
       "3  dell      2          0            0     1       1      0.0        1.0   \n",
       "4  acer      1          1            1     0       0      0.0        1.0   \n",
       "\n",
       "   GPU_mali  GPU_nvidia  OS_Windows  OS_android  OS_chrome  OS_linux  \\\n",
       "0       0.0         0.0         0.0         0.0        0.0       0.0   \n",
       "1       0.0         0.0         0.0         0.0        0.0       0.0   \n",
       "2       0.0         0.0         0.0         0.0        1.0       0.0   \n",
       "3       0.0         0.0         0.0         0.0        0.0       0.0   \n",
       "4       0.0         0.0         0.0         0.0        1.0       0.0   \n",
       "\n",
       "   OS_windows  Storage Type_emmc  Storage Type_hdd/ssd  Storage Type_other  \\\n",
       "0         1.0                0.0                   0.0                 0.0   \n",
       "1         1.0                0.0                   0.0                 0.0   \n",
       "2         0.0                1.0                   0.0                 0.0   \n",
       "3         1.0                0.0                   0.0                 0.0   \n",
       "4         0.0                0.0                   0.0                 0.0   \n",
       "\n",
       "   Storage Type_ssd  Processor Speed  Display Width  Display Height  \\\n",
       "0               1.0         0.761905       0.372704        0.323788   \n",
       "1               1.0         0.333333       0.372704        0.323788   \n",
       "2               0.0         0.333333       0.191703        0.163956   \n",
       "3               1.0         0.095238       0.191703        0.163956   \n",
       "4               1.0         0.142857       0.191703        0.163956   \n",
       "\n",
       "   Hard Drive Capacity  SSD Capacity  Screen Size (cm)  Ram Size  \\\n",
       "0             0.499875      0.050538          0.008374  0.011680   \n",
       "1             0.124781      0.124124          0.008374  0.031250   \n",
       "2             0.003751      0.050538          0.006699  0.007812   \n",
       "3             0.024479      0.063063          0.007327  0.015625   \n",
       "4             0.024479      0.003003          0.006699  0.007812   \n",
       "\n",
       "   Price per Screen Size  Price per Display Height  Price per Display Width  \\\n",
       "0               0.082472                  0.083832                 0.082026   \n",
       "1               0.035871                  0.034781                 0.034033   \n",
       "2               0.020872                  0.022689                 0.022189   \n",
       "3               0.023112                  0.027671                 0.027061   \n",
       "4               0.012124                  0.011959                 0.011696   \n",
       "\n",
       "    Price  \n",
       "0  400.00  \n",
       "1  175.00  \n",
       "2   85.00  \n",
       "3  101.25  \n",
       "4   50.00  "
      ]
     },
     "execution_count": 5,
     "metadata": {},
     "output_type": "execute_result"
    }
   ],
   "source": [
    "# Load the dataset \n",
    "filename = os.path.join(path, csv_files[1])\n",
    "mobile_ds = pd.read_csv(filename, index_col=0)\n",
    "mobile_ds.head()"
   ]
  },
  {
   "cell_type": "markdown",
   "id": "6b6cb737",
   "metadata": {},
   "source": [
    "This notebook focuses on training the linear regression model built from scratch using scikit learn and feed the properties data from the mobile phone. The aim is to train the model based on 4 inferences to assess the performance of the model. This assessment requires metrics to estimate how the model fits the data best.  A simple linear regression model is utilised to demonstrate the training process for each case. "
   ]
  },
  {
   "cell_type": "markdown",
   "id": "c5f78d02",
   "metadata": {},
   "source": [
    "To focus this training phase on manipulating a single feature towards its target, this notebook outlines 4 inference cases: \n",
    "\n",
    "+ Case 1: Price per Screen Size\n",
    "+ Case 2: Price per Display Width\n",
    "+ Case 3: Price per Display Height\n",
    "+ Case 4: SSD Capacity"
   ]
  },
  {
   "cell_type": "markdown",
   "id": "4aa126ee",
   "metadata": {},
   "source": [
    "For each training case, these following procedure needs to be respected:\n",
    "+ Data Preparation\n",
    "+ Feature Engineering\n",
    "+ Model building\n",
    "+ Model Training\n",
    "+ Visualisation of all 4 training cases"
   ]
  },
  {
   "cell_type": "markdown",
   "id": "d8cf42dc",
   "metadata": {},
   "source": [
    "## Model Training: in terms of 4 training cases"
   ]
  },
  {
   "cell_type": "code",
   "execution_count": 6,
   "id": "fd9336e2",
   "metadata": {},
   "outputs": [],
   "source": [
    "## Import depdendencies for preparing data\n",
    "from sklearn.model_selection import train_test_split\n",
    "from model1_lr import SimpleLinearRegression"
   ]
  },
  {
   "cell_type": "markdown",
   "id": "147ee067",
   "metadata": {},
   "source": [
    "### Training Case 1: Price per Screen Size"
   ]
  },
  {
   "cell_type": "code",
   "execution_count": 7,
   "id": "fd39e763",
   "metadata": {},
   "outputs": [
    {
     "name": "stdout",
     "output_type": "stream",
     "text": [
      "Training set: X = (1853, 1), Y =(1853,) \n",
      "Training set: X = (618, 1), Y =(618,) \n"
     ]
    }
   ],
   "source": [
    "# Prepare the data \n",
    "property_dataX = mobile_ds[[\"Price per Screen Size\"]].values\n",
    "price_dataY = mobile_ds[\"Price\"].values\n",
    "\n",
    "# Split data into test and training sets\n",
    "xtrain, xtest, ytrain, ytest = train_test_split(property_dataX, price_dataY, test_size=0.25, random_state=1234)\n",
    "print(f\"Training set: X = {xtrain.shape}, Y ={ytrain.shape} \")\n",
    "print(f\"Training set: X = {xtest.shape}, Y ={ytest.shape} \")"
   ]
  },
  {
   "cell_type": "code",
   "execution_count": null,
   "id": "f113bdf9",
   "metadata": {},
   "outputs": [],
   "source": []
  },
  {
   "cell_type": "code",
   "execution_count": null,
   "id": "62620058",
   "metadata": {},
   "outputs": [
    {
     "ename": "AttributeError",
     "evalue": "'SimpleLinearRegression' object has no attribute 'loss'",
     "output_type": "error",
     "traceback": [
      "\u001b[31m---------------------------------------------------------------------------\u001b[39m",
      "\u001b[31mAttributeError\u001b[39m                            Traceback (most recent call last)",
      "\u001b[36mCell\u001b[39m\u001b[36m \u001b[39m\u001b[32mIn[8]\u001b[39m\u001b[32m, line 6\u001b[39m\n\u001b[32m      4\u001b[39m \u001b[38;5;66;03m# Linear regression 1: Simple Linear regression \u001b[39;00m\n\u001b[32m      5\u001b[39m model1 = SimpleLinearRegression(\u001b[32m0.01\u001b[39m, \u001b[32m1000\u001b[39m)\n\u001b[32m----> \u001b[39m\u001b[32m6\u001b[39m weights_pm1, bias_pm1 = \u001b[43mmodel1\u001b[49m\u001b[43m.\u001b[49m\u001b[43mfit\u001b[49m\u001b[43m(\u001b[49m\u001b[43mxtrain\u001b[49m\u001b[43m,\u001b[49m\u001b[43m \u001b[49m\u001b[43mytrain\u001b[49m\u001b[43m)\u001b[49m\n\u001b[32m      8\u001b[39m \u001b[38;5;28mprint\u001b[39m(\u001b[33mf\u001b[39m\u001b[33m\"\u001b[39m\u001b[33mWeights (model 1): \u001b[39m\u001b[38;5;132;01m{\u001b[39;00mweights_pm1\u001b[38;5;132;01m}\u001b[39;00m\u001b[33m\"\u001b[39m)\n\u001b[32m      9\u001b[39m \u001b[38;5;28mprint\u001b[39m(\u001b[33mf\u001b[39m\u001b[33m\"\u001b[39m\u001b[33mBias (model 2): \u001b[39m\u001b[38;5;132;01m{\u001b[39;00mbias_pm1\u001b[38;5;132;01m}\u001b[39;00m\u001b[33m\"\u001b[39m)\n",
      "\u001b[36mFile \u001b[39m\u001b[32mc:\\Development\\Projects\\MachineLearning\\Laptop-Price-Predictor-System\\models\\model1_lr.py:74\u001b[39m, in \u001b[36mSimpleLinearRegression.fit\u001b[39m\u001b[34m(self, X, y)\u001b[39m\n\u001b[32m     71\u001b[39m     \u001b[38;5;28mself\u001b[39m.bias = \u001b[38;5;28mself\u001b[39m.bias - \u001b[38;5;28mself\u001b[39m.lr * db\n\u001b[32m     73\u001b[39m     \u001b[38;5;66;03m# Print the loss function\u001b[39;00m\n\u001b[32m---> \u001b[39m\u001b[32m74\u001b[39m     loss = \u001b[38;5;28;43mself\u001b[39;49m\u001b[43m.\u001b[49m\u001b[43mloss\u001b[49m(y, ypred)\n\u001b[32m     75\u001b[39m     \u001b[38;5;28mprint\u001b[39m(\u001b[33mf\u001b[39m\u001b[33m\"\u001b[39m\u001b[33mIteration \u001b[39m\u001b[38;5;132;01m{\u001b[39;00mi\u001b[38;5;250m \u001b[39m+\u001b[38;5;250m \u001b[39m\u001b[32m1\u001b[39m\u001b[38;5;132;01m}\u001b[39;00m\u001b[33m: weights = \u001b[39m\u001b[38;5;132;01m{\u001b[39;00m\u001b[38;5;28mself\u001b[39m.weights[:\u001b[32m3\u001b[39m]\u001b[38;5;132;01m}\u001b[39;00m\u001b[33m, bias = \u001b[39m\u001b[38;5;132;01m{\u001b[39;00m\u001b[38;5;28mself\u001b[39m.bias\u001b[38;5;132;01m}\u001b[39;00m\u001b[33m, loss = \u001b[39m\u001b[38;5;132;01m{\u001b[39;00mloss\u001b[38;5;132;01m}\u001b[39;00m\u001b[33m\"\u001b[39m)\n\u001b[32m     77\u001b[39m \u001b[38;5;28;01mreturn\u001b[39;00m \u001b[38;5;28mself\u001b[39m.weights, \u001b[38;5;28mself\u001b[39m.bias\n",
      "\u001b[31mAttributeError\u001b[39m: 'SimpleLinearRegression' object has no attribute 'loss'"
     ]
    }
   ],
   "source": [
    "# # Build a simple linear regression model \n",
    "# from model1_lr import SimpleLinearRegression\n",
    "\n",
    "# # Linear regression 1: Simple Linear regression \n",
    "# model1 = SimpleLinearRegression(0.01, 1000)\n",
    "# weights_pm1, bias_pm1 = model1.fit(xtrain, ytrain)\n",
    "\n",
    "# print(f\"Weights (model 1): {weights_pm1}\")\n",
    "# print(f\"Bias (model 2): {bias_pm1}\")"
   ]
  },
  {
   "cell_type": "code",
   "execution_count": null,
   "id": "eb68c7ae",
   "metadata": {},
   "outputs": [],
   "source": []
  },
  {
   "cell_type": "code",
   "execution_count": null,
   "id": "9b16717b",
   "metadata": {},
   "outputs": [],
   "source": []
  }
 ],
 "metadata": {
  "kernelspec": {
   "display_name": ".mlenv",
   "language": "python",
   "name": "python3"
  },
  "language_info": {
   "codemirror_mode": {
    "name": "ipython",
    "version": 3
   },
   "file_extension": ".py",
   "mimetype": "text/x-python",
   "name": "python",
   "nbconvert_exporter": "python",
   "pygments_lexer": "ipython3",
   "version": "3.11.9"
  }
 },
 "nbformat": 4,
 "nbformat_minor": 5
}
